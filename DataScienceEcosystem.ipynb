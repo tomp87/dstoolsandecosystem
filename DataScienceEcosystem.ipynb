{
 "cells": [
  {
   "cell_type": "markdown",
   "id": "e55127fa-f159-4b41-bd31-378d95c4f18d",
   "metadata": {},
   "source": [
    "## Data Science tools and ecosystem\n"
   ]
  },
  {
   "cell_type": "markdown",
   "id": "ce7e259b-4a5b-44fe-81e6-e4d55f6feb8c",
   "metadata": {},
   "source": [
    "## Author\n",
    "Thomas Pimlott"
   ]
  },
  {
   "cell_type": "markdown",
   "id": "cf0c3d79-8ac5-4100-9b65-3efaedea9e57",
   "metadata": {},
   "source": [
    "**Objectives**\n",
    "\n",
    "- List of popular languages used by data scientists\n",
    "- Common libraries used by data scientists\n",
    "- Popular data science tools\n",
    "- Examples of arithmetic expressions"
   ]
  },
  {
   "cell_type": "markdown",
   "id": "fc03ce01-a4d2-404c-8327-1a068db6df7c",
   "metadata": {},
   "source": [
    "In this markdown cell, data science and ecosystem are summarised\n"
   ]
  },
  {
   "cell_type": "markdown",
   "id": "1983069b-0039-46c9-a5aa-6169c320869a",
   "metadata": {},
   "source": [
    " Some of the popular languages that data scientists use are;\n",
    "\n",
    " 1. Python\n",
    " 2. Jupyter\n",
    " 3. SQL"
   ]
  },
  {
   "cell_type": "markdown",
   "id": "a1dfe453-13e5-4cb0-83c3-1516f6e3c85d",
   "metadata": {},
   "source": [
    "Some of the common libraries that data scientist use are;\n",
    "\n",
    "1. Matplotlib\n",
    "2. Numpy\n",
    "3. Pandas"
   ]
  },
  {
   "cell_type": "markdown",
   "id": "8041e9dc-fc1f-433b-9a1d-96e51fdb2d5d",
   "metadata": {},
   "source": [
    "| Data Science tools |\n",
    "|--------------------|\n",
    "| Git |\n",
    "| Apache Hadoop | \n",
    "| Tensor flow |\n"
   ]
  },
  {
   "cell_type": "markdown",
   "id": "7993aa97-b8fa-4d8c-8854-eb2f222dbaab",
   "metadata": {},
   "source": [
    "### Below are a few examples of arithmetic expressions\n",
    "\n",
    "2*2 \n",
    "7+3 \n",
    "3.5*(5-3)\n",
    "\n"
   ]
  },
  {
   "cell_type": "code",
   "execution_count": 41,
   "id": "73b0e7db-c6b8-4963-8c9d-3de7f8ffd215",
   "metadata": {},
   "outputs": [
    {
     "data": {
      "text/plain": [
       "17"
      ]
     },
     "execution_count": 41,
     "metadata": {},
     "output_type": "execute_result"
    }
   ],
   "source": [
    "# This is a simple arithmetic expression to multiply then add integers\n",
    "\n",
    "(3*4)+5"
   ]
  },
  {
   "cell_type": "code",
   "execution_count": 43,
   "id": "7210dfc8-838f-41ff-8825-d2c8713847ac",
   "metadata": {},
   "outputs": [
    {
     "data": {
      "text/plain": [
       "3.3333333333333335"
      ]
     },
     "execution_count": 43,
     "metadata": {},
     "output_type": "execute_result"
    }
   ],
   "source": [
    "# This will convert 200 minutes to hours by dividing by 60\n",
    "\n",
    "200/60"
   ]
  },
  {
   "cell_type": "code",
   "execution_count": null,
   "id": "94192877-9f48-4a24-bbbe-751f8b21428b",
   "metadata": {},
   "outputs": [],
   "source": []
  },
  {
   "cell_type": "code",
   "execution_count": null,
   "id": "0e1b9e64-35b8-4edd-955d-f749f3ea9e4d",
   "metadata": {},
   "outputs": [],
   "source": []
  }
 ],
 "metadata": {
  "kernelspec": {
   "display_name": "Python [conda env:base] *",
   "language": "python",
   "name": "conda-base-py"
  },
  "language_info": {
   "codemirror_mode": {
    "name": "ipython",
    "version": 3
   },
   "file_extension": ".py",
   "mimetype": "text/x-python",
   "name": "python",
   "nbconvert_exporter": "python",
   "pygments_lexer": "ipython3",
   "version": "3.12.7"
  }
 },
 "nbformat": 4,
 "nbformat_minor": 5
}
